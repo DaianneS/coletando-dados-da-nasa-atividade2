{
  "nbformat": 4,
  "nbformat_minor": 0,
  "metadata": {
    "colab": {
      "provenance": [],
      "authorship_tag": "ABX9TyND9lzpSU3vnra6mQkGDbCc",
      "include_colab_link": true
    },
    "kernelspec": {
      "name": "python3",
      "display_name": "Python 3"
    },
    "language_info": {
      "name": "python"
    }
  },
  "cells": [
    {
      "cell_type": "markdown",
      "metadata": {
        "id": "view-in-github",
        "colab_type": "text"
      },
      "source": [
        "<a href=\"https://colab.research.google.com/github/DaianneS/coletando-dados-da-nasa-atividade2/blob/main/atividade_2_estrut_dados.ipynb\" target=\"_parent\"><img src=\"https://colab.research.google.com/assets/colab-badge.svg\" alt=\"Open In Colab\"/></a>"
      ]
    },
    {
      "cell_type": "code",
      "execution_count": 8,
      "metadata": {
        "colab": {
          "base_uri": "https://localhost:8080/"
        },
        "id": "DLDNYI6gLzkM",
        "outputId": "3de27678-aa1f-4744-cc8b-498f3b89c259"
      },
      "outputs": [
        {
          "output_type": "stream",
          "name": "stdout",
          "text": [
            "Digite a data no formato DD-MM-YYYY: 389020938-\n",
            "Erro!!! Digite a data no formato DD-MM-YYYY!\n"
          ]
        }
      ],
      "source": [
        "import requests\n",
        "\n",
        "def dados_api(data):\n",
        "  api_key = \"PeV8FO62yxXF8KblARjaGmDorAMKuB2BOJe6vC08\"\n",
        "  url = f\"https://api.nasa.gov/neo/rest/v1/feed?start_date={data}&end_date={data}&api_key={api_key}\"\n",
        "\n",
        "  resposta = requests.get(url)\n",
        "\n",
        "  if resposta.status_code == 200:\n",
        "    return resposta.json()\n",
        "\n",
        "  else:\n",
        "    return{\"Erro\": \"Não foi possível obter os dados\"}\n",
        "\n",
        "def processando_dados(dados, data):\n",
        "    asteroides_lista = []\n",
        "\n",
        "    if not dados or \"near_earth_objects\" not in dados:\n",
        "      return None\n",
        "\n",
        "    for asteroide in dados[\"near_earth_objects\"].get(data, []):\n",
        "      infosAsteroide = {\n",
        "        'nomeAsteroide': asteroide['name'],\n",
        "        'diametroMax': float(asteroide['estimated_diameter']['meters']['estimated_diameter_max']),\n",
        "        'velocidadeRel': float(asteroide['close_approach_data'][0]['relative_velocity']['kilometers_per_hour']),\n",
        "        'distanciaMin': float(asteroide['close_approach_data'][0]['miss_distance']['kilometers']),\n",
        "        'perigo': \"Sim\" if asteroide['is_potentially_hazardous_asteroid'] else \"Não\"\n",
        "      }\n",
        "      asteroides_lista.append(infosAsteroide)\n",
        "\n",
        "    return asteroides_lista\n",
        "\n",
        "def dadosFormatados(asteroides):\n",
        "  if not asteroides:\n",
        "    print('Nenhum asteroide.')\n",
        "    return\n",
        "\n",
        "  print(\"\\nAsteroides próximos à Terra nessa data:\\n\")\n",
        "  for asteroide in asteroides:\n",
        "      print(f\"Nome: {asteroide['nomeAsteroide']}\")\n",
        "      print(f\"Diâmetro Máximo: {asteroide['diametroMax']:.2f} metros\")\n",
        "      print(f\"Velocidade Relativa: {asteroide['velocidadeRel']:.2f} km/h\")\n",
        "      print(f\"Distância Mínima da Terra: {asteroide['distanciaMin']:.2f} km\")\n",
        "      print(f\"Potencialmente Perigoso: {asteroide['perigo']}\")\n",
        "      print(\"-\" * 40)\n",
        "\n",
        "def arrumarData(data):\n",
        "  partes = data.split('-')\n",
        "  if len(partes) == 3:\n",
        "    return f'{partes[2]}-{partes[1]}-{partes[0]}'\n",
        "  else:\n",
        "    return None\n",
        "\n",
        "if __name__ == '__main__':\n",
        "  dataInput = input('Digite a data no formato DD-MM-YYYY: ')\n",
        "\n",
        "  dataFormatada = arrumarData(dataInput)\n",
        "\n",
        "  if dataFormatada:\n",
        "    dadosRecebidos = dados_api(dataFormatada)\n",
        "\n",
        "    asteroides_lista = processando_dados(dadosRecebidos, dataFormatada)\n",
        "\n",
        "    dadosFormatados(asteroides_lista)\n",
        "  else:\n",
        "    print('Erro!!! Digite a data no formato DD-MM-YYYY!')"
      ]
    }
  ]
}